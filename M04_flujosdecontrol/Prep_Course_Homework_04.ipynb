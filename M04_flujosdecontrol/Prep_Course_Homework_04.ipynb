{
 "cells": [
  {
   "attachments": {},
   "cell_type": "markdown",
   "metadata": {},
   "source": [
    "## Flujos de Control"
   ]
  },
  {
   "attachments": {},
   "cell_type": "markdown",
   "metadata": {},
   "source": [
    "1) Crear una variable que contenga un elemento del conjunto de números enteros y luego imprimir por pantalla si es mayor o menor a cero"
   ]
  },
  {
   "cell_type": "code",
   "execution_count": 17,
   "metadata": {},
   "outputs": [
    {
     "name": "stdout",
     "output_type": "stream",
     "text": [
      "es mayor que cero\n"
     ]
    }
   ],
   "source": [
    "a=1\n",
    "\n",
    "if a>0:\n",
    "    print(\"es mayor que cero\")\n",
    "elif a==0:\n",
    "    print(\"es cero\")\n",
    "else:\n",
    "    print(\"es menor que cero\")\n"
   ]
  },
  {
   "attachments": {},
   "cell_type": "markdown",
   "metadata": {},
   "source": [
    "2) Crear dos variables y un condicional que informe si son del mismo tipo de dato"
   ]
  },
  {
   "cell_type": "code",
   "execution_count": 18,
   "metadata": {},
   "outputs": [
    {
     "name": "stdout",
     "output_type": "stream",
     "text": [
      "son de tipos distintos\n",
      "<class 'float'>\n",
      "<class 'int'>\n"
     ]
    }
   ],
   "source": [
    "b=2\n",
    "c=2.5\n",
    "\n",
    "\n",
    "if type(c)==type(b):\n",
    "    print(\"son del mismo tipo\")\n",
    "    \n",
    "else:\n",
    "    print(\"son de tipos distintos\")\n",
    "print(type(c))\n",
    "print(type(b))"
   ]
  },
  {
   "attachments": {},
   "cell_type": "markdown",
   "metadata": {},
   "source": [
    "3) Para los valores enteros del 1 al 20, imprimir por pantalla si es par o impar"
   ]
  },
  {
   "cell_type": "code",
   "execution_count": 19,
   "metadata": {},
   "outputs": [
    {
     "name": "stdout",
     "output_type": "stream",
     "text": [
      "1 es impar\n",
      "2 es par\n",
      "3 es impar\n",
      "4 es par\n",
      "5 es impar\n",
      "6 es par\n",
      "7 es impar\n",
      "8 es par\n",
      "9 es impar\n",
      "10 es par\n",
      "11 es impar\n",
      "12 es par\n",
      "13 es impar\n",
      "14 es par\n",
      "15 es impar\n",
      "16 es par\n",
      "17 es impar\n",
      "18 es par\n",
      "19 es impar\n",
      "20 es par\n"
     ]
    }
   ],
   "source": [
    "d=0\n",
    "while d <20:\n",
    "    d+=1\n",
    "    if d%2==0:\n",
    "        print(str(d)+ \" es par\")\n",
    "    else:\n",
    "        print(str(d)+ \" es impar\")\n"
   ]
  },
  {
   "attachments": {},
   "cell_type": "markdown",
   "metadata": {},
   "source": [
    "4) En un ciclo for mostrar para los valores entre 0 y 5 el resultado de elevarlo a la potencia igual a 3"
   ]
  },
  {
   "cell_type": "code",
   "execution_count": 23,
   "metadata": {},
   "outputs": [
    {
     "name": "stdout",
     "output_type": "stream",
     "text": [
      "0\n",
      "1\n",
      "8\n",
      "27\n",
      "64\n",
      "125\n"
     ]
    }
   ],
   "source": [
    "e=[0,1,2,3,4,5]\n",
    "\n",
    "for e in e:\n",
    "   f=e**3\n",
    "   print(f)"
   ]
  },
  {
   "attachments": {},
   "cell_type": "markdown",
   "metadata": {},
   "source": [
    "5) Crear una variable que contenga un número entero y realizar un ciclo for la misma cantidad de ciclos"
   ]
  },
  {
   "cell_type": "code",
   "execution_count": 27,
   "metadata": {},
   "outputs": [
    {
     "name": "stdout",
     "output_type": "stream",
     "text": [
      "a\n",
      "a\n",
      "a\n",
      "a\n",
      "a\n"
     ]
    }
   ],
   "source": [
    "g=5\n",
    "\n",
    "for g in range(0,g):\n",
    "    print(\"a\")"
   ]
  },
  {
   "attachments": {},
   "cell_type": "markdown",
   "metadata": {},
   "source": [
    "6) Utilizar un ciclo while para realizar el factorial de un número guardado en una variable, sólo si la variable contiene un número entero mayor a 0"
   ]
  },
  {
   "cell_type": "code",
   "execution_count": 9,
   "metadata": {},
   "outputs": [
    {
     "name": "stdout",
     "output_type": "stream",
     "text": [
      "el factorial es 20\n",
      "el factorial es 60\n",
      "el factorial es 120\n"
     ]
    }
   ],
   "source": [
    "h=5\n",
    "if (type(h)==int):\n",
    "    if (h>0):\n",
    "        fac=h\n",
    "        while(h>2):\n",
    "            h=h-1\n",
    "            fac=fac*h\n",
    "            print(\"el factorial es \"+ str(fac))\n",
    "    else:\n",
    "        print(str(h)+ \"no es mayor a cero\")\n",
    "else:\n",
    "    print(str(h) +\" no pertenece a los enteros\")\n",
    "\n"
   ]
  },
  {
   "attachments": {},
   "cell_type": "markdown",
   "metadata": {},
   "source": [
    "7) Crear un ciclo for dentro de un ciclo while"
   ]
  },
  {
   "cell_type": "code",
   "execution_count": 16,
   "metadata": {},
   "outputs": [
    {
     "name": "stdout",
     "output_type": "stream",
     "text": [
      "ciclo de while numero: 0\n",
      "ciclo de while numero: 1\n",
      "Ciclo interno por for numero 1\n",
      "ciclo de while numero: 2\n",
      "Ciclo interno por for numero 1\n",
      "Ciclo interno por for numero 2\n",
      "ciclo de while numero: 3\n",
      "Ciclo interno por for numero 1\n",
      "Ciclo interno por for numero 2\n",
      "Ciclo interno por for numero 3\n",
      "ciclo de while numero: 4\n",
      "Ciclo interno por for numero 1\n",
      "Ciclo interno por for numero 2\n",
      "Ciclo interno por for numero 3\n",
      "Ciclo interno por for numero 4\n"
     ]
    }
   ],
   "source": [
    "i=0\n",
    "while i<5:\n",
    "    print(\"ciclo de while numero: \" + str(i))\n",
    "    for j in range(1,i+1):\n",
    "        print(\"Ciclo interno por for numero \"+ str(j) )\n",
    "    i=i+1"
   ]
  },
  {
   "attachments": {},
   "cell_type": "markdown",
   "metadata": {},
   "source": [
    "8) Crear un ciclo while dentro de un ciclo for"
   ]
  },
  {
   "cell_type": "code",
   "execution_count": 23,
   "metadata": {},
   "outputs": [
    {
     "name": "stdout",
     "output_type": "stream",
     "text": [
      "valor del ciclo for:0\n",
      "valor del ciclo while: 0\n",
      "valor del ciclo while: 1\n",
      "valor del ciclo while: 2\n",
      "valor del ciclo for:1\n",
      "valor del ciclo while: 0\n",
      "valor del ciclo while: 1\n",
      "valor del ciclo while: 2\n",
      "valor del ciclo for:2\n",
      "valor del ciclo while: 0\n",
      "valor del ciclo while: 1\n",
      "valor del ciclo while: 2\n"
     ]
    }
   ],
   "source": [
    "k=3\n",
    "for l in range(0,k):\n",
    "    print(\"valor del ciclo for:\"+ str(l))\n",
    "    m=0\n",
    "    while m < k:\n",
    "        print(\"valor del ciclo while: \"+str(m))\n",
    "        m=m+1"
   ]
  },
  {
   "attachments": {},
   "cell_type": "markdown",
   "metadata": {},
   "source": [
    "9) Imprimir los números primos existentes entre 0 y 30"
   ]
  },
  {
   "cell_type": "code",
   "execution_count": 38,
   "metadata": {},
   "outputs": [
    {
     "name": "stdout",
     "output_type": "stream",
     "text": [
      "0 es indivisible\n",
      "1 es primo\n",
      "2 es primo\n",
      "3 es primo\n",
      "No es primo, 2 es divisor de 4\n",
      "5 es primo\n",
      "No es primo, 2 es divisor de 6\n",
      "7 es primo\n",
      "No es primo, 2 es divisor de 8\n",
      "No es primo, 3 es divisor de 9\n",
      "No es primo, 5 es divisor de 10\n",
      "11 es primo\n",
      "No es primo, 2 es divisor de 12\n",
      "13 es primo\n",
      "No es primo, 2 es divisor de 14\n",
      "No es primo, 3 es divisor de 15\n",
      "No es primo, 4 es divisor de 16\n",
      "17 es primo\n",
      "No es primo, 2 es divisor de 18\n",
      "19 es primo\n",
      "No es primo, 2 es divisor de 20\n",
      "No es primo, 3 es divisor de 21\n",
      "No es primo, 11 es divisor de 22\n",
      "23 es primo\n",
      "No es primo, 2 es divisor de 24\n",
      "No es primo, 5 es divisor de 25\n",
      "No es primo, 13 es divisor de 26\n",
      "27 es primo\n",
      "No es primo, 2 es divisor de 28\n",
      "29 es primo\n"
     ]
    }
   ],
   "source": [
    "o=0\n",
    "q=0\n",
    "while (o<30):\n",
    "    if(o!=0):\n",
    "        for contador in range(2,o):\n",
    "           if o%contador==0:\n",
    "               print(\"No es primo, \"+ str(contador)+\" es divisor de \"+str(o))\n",
    "               o=o+1\n",
    "    else:\n",
    "        print(\"0 es indivisible\")\n",
    "        o=o+1   \n",
    "    print(str(o)+ \" es primo\")\n",
    "    o=o+1"
   ]
  },
  {
   "attachments": {},
   "cell_type": "markdown",
   "metadata": {},
   "source": [
    "10) ¿Se puede mejorar el proceso del punto 9? Utilizar las sentencias break y/ó continue para tal fin"
   ]
  },
  {
   "cell_type": "code",
   "execution_count": 39,
   "metadata": {},
   "outputs": [
    {
     "name": "stdout",
     "output_type": "stream",
     "text": [
      "0\n",
      "1\n",
      "2\n",
      "3\n",
      "5\n",
      "7\n",
      "11\n",
      "13\n",
      "17\n",
      "19\n",
      "23\n",
      "29\n"
     ]
    }
   ],
   "source": [
    "tope_rango = 30\n",
    "n = 0\n",
    "primo = True\n",
    "\n",
    "\n",
    "while n < tope_rango:\n",
    "    for div in range(2, n):\n",
    "        if n % div == 0:\n",
    "            primo = False\n",
    "    \n",
    "    if primo:\n",
    "        print(n)\n",
    "    else:\n",
    "        primo = True\n",
    "    n += 1\n"
   ]
  },
  {
   "attachments": {},
   "cell_type": "markdown",
   "metadata": {},
   "source": [
    "11) En los puntos 9 y 10, se diseño un código que encuentra números primos y además se lo optimizó. ¿Es posible saber en qué medida se optimizó?"
   ]
  },
  {
   "cell_type": "code",
   "execution_count": null,
   "metadata": {},
   "outputs": [],
   "source": []
  },
  {
   "attachments": {},
   "cell_type": "markdown",
   "metadata": {},
   "source": [
    "12) Aplicando continue, armar un ciclo while que solo imprima los valores divisibles por 12, dentro del rango de números de 100 a 300"
   ]
  },
  {
   "cell_type": "code",
   "execution_count": null,
   "metadata": {},
   "outputs": [],
   "source": []
  },
  {
   "attachments": {},
   "cell_type": "markdown",
   "metadata": {},
   "source": [
    "13) Utilizar la función **input()** que permite hacer ingresos por teclado, para encontrar números primos y dar la opción al usario de buscar el siguiente"
   ]
  },
  {
   "cell_type": "code",
   "execution_count": null,
   "metadata": {},
   "outputs": [],
   "source": []
  },
  {
   "attachments": {},
   "cell_type": "markdown",
   "metadata": {},
   "source": [
    "14) Crear un ciclo while que encuentre dentro del rango de 100 a 300 el primer número divisible por 3 y además múltiplo de 6"
   ]
  },
  {
   "cell_type": "code",
   "execution_count": null,
   "metadata": {},
   "outputs": [],
   "source": []
  }
 ],
 "metadata": {
  "interpreter": {
   "hash": "c85384e4cb51c8b72350f3a8712cc8351fdc3955e32a27f9b60c6242ab125f01"
  },
  "kernelspec": {
   "display_name": "Python 3 (ipykernel)",
   "language": "python",
   "name": "python3"
  },
  "language_info": {
   "codemirror_mode": {
    "name": "ipython",
    "version": 3
   },
   "file_extension": ".py",
   "mimetype": "text/x-python",
   "name": "python",
   "nbconvert_exporter": "python",
   "pygments_lexer": "ipython3",
   "version": "3.12.2"
  }
 },
 "nbformat": 4,
 "nbformat_minor": 4
}
